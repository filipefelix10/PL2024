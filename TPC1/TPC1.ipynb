{
 "cells": [
  {
   "attachments": {},
   "cell_type": "markdown",
   "metadata": {},
   "source": [
    "# TPC1"
   ]
  },
  {
   "cell_type": "code",
   "execution_count": 6,
   "metadata": {},
   "outputs": [],
   "source": [
    "import sys\n",
    "import io"
   ]
  },
  {
   "cell_type": "markdown",
   "metadata": {},
   "source": [
    "* Método para abrir o CSV e transformar cada coluna numa lista , que esta guardado noutra lista. Cada indice da lista columns representa umca coluna do CSV."
   ]
  },
  {
   "cell_type": "code",
   "execution_count": 7,
   "metadata": {},
   "outputs": [],
   "source": [
    "# Abre o ficheiro CSV\n",
    "file = open('emd.csv', 'r')\n",
    "\n",
    "# Inicializa uma lista para armazenar as listas de cada coluna\n",
    "columns = []\n",
    "initialized_columns = False\n",
    "\n",
    "# Lê cada linha do ficheiro\n",
    "for line in file:\n",
    "    # Divide a linha pelos delimitadores de vírgula\n",
    "    row = line.strip().split(',')\n",
    "    \n",
    "    # Inicializa as listas de colunas na primeira passagem\n",
    "    if not initialized_columns:\n",
    "        for _ in row:\n",
    "            columns.append([])\n",
    "        initialized_columns = True\n",
    "    \n",
    "    # Adiciona cada valor da linha à sua respectiva lista de coluna\n",
    "    for i, value in enumerate(row):\n",
    "        columns[i].append(value)\n",
    "\n",
    "# Fecha o ficheiro\n",
    "file.close()\n"
   ]
  },
  {
   "cell_type": "markdown",
   "metadata": {},
   "source": [
    "* Encontrar o primeiro elemento da coluna , que corresponde a cada título do cabeçalho."
   ]
  },
  {
   "cell_type": "code",
   "execution_count": 8,
   "metadata": {},
   "outputs": [],
   "source": [
    "def find_row(listas, str):\n",
    "    for i in range(len(listas)):\n",
    "        if listas[i][0] == str: # Primeira elemento de cada coluna\n",
    "            return i\n",
    "    return -1\n"
   ]
  },
  {
   "cell_type": "code",
   "execution_count": 9,
   "metadata": {},
   "outputs": [
    {
     "data": {
      "text/plain": [
       "8"
      ]
     },
     "execution_count": 9,
     "metadata": {},
     "output_type": "execute_result"
    }
   ],
   "source": [
    "find_row(columns, \"modalidade\")"
   ]
  },
  {
   "cell_type": "code",
   "execution_count": 11,
   "metadata": {},
   "outputs": [
    {
     "name": "stdout",
     "output_type": "stream",
     "text": [
      "['Andebol', 'Atletismo', 'BTT', 'Badminton', 'Basquetebol', 'Ciclismo', 'DanÃ§a', 'EquitaÃ§Ã£o', 'Esgrima', 'Futebol', 'KaratÃ©', 'OrientaÃ§Ã£o', 'Parapente', 'Patinagem', 'Triatlo']\n"
     ]
    }
   ],
   "source": [
    "sem_duplicatas = set(columns[find_row(columns, \"modalidade\")][1:])\n",
    "\n",
    "# Ordena a lista alfabeticamente\n",
    "set_ordenado = sorted(sem_duplicatas)\n",
    "\n",
    "print(set_ordenado)"
   ]
  }
 ],
 "metadata": {
  "kernelspec": {
   "display_name": "DAA",
   "language": "python",
   "name": "python3"
  },
  "language_info": {
   "codemirror_mode": {
    "name": "ipython",
    "version": 3
   },
   "file_extension": ".py",
   "mimetype": "text/x-python",
   "name": "python",
   "nbconvert_exporter": "python",
   "pygments_lexer": "ipython3",
   "version": "3.11.5"
  },
  "orig_nbformat": 4
 },
 "nbformat": 4,
 "nbformat_minor": 2
}
