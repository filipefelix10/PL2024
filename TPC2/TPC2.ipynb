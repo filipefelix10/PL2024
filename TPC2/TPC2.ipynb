{
 "cells": [
  {
   "attachments": {},
   "cell_type": "markdown",
   "metadata": {},
   "source": [
    "# TPC2"
   ]
  },
  {
   "cell_type": "code",
   "execution_count": 212,
   "metadata": {},
   "outputs": [],
   "source": [
    "import sys\n",
    "import io\n",
    "import re"
   ]
  },
  {
   "cell_type": "code",
   "execution_count": 213,
   "metadata": {},
   "outputs": [],
   "source": [
    "import re\n",
    "\n",
    "def markdown_to_html(line):\n",
    "    header_regex = re.compile(r'^(#{1,6})\\s*(.*)')\n",
    "    bold_regex = re.compile(r'\\*\\*(.*?)\\*\\*')\n",
    "    italico_regex = re.compile(r'\\*(.*?)\\*')\n",
    "    link_regex = re.compile(r'\\[(.*?)\\]\\((.*?)\\)')\n",
    "    image_regex = re.compile(r'!\\[(.*?)\\]\\((.*?)\\)')\n",
    "    blockquote_regex = re.compile(r'^> (.*)')\n",
    "    ordered_list_regex = re.compile(r'^\\d+\\. (.*)')\n",
    "    unordered_list_regex = re.compile(r'^- (.*)')\n",
    "    code_regex = re.compile(r'`(.*)`')\n",
    "    horizontal_rule_regex = re.compile(r'^---')\n",
    "\n",
    "    # Verifica se a linha é um cabeçalho\n",
    "    match = header_regex.match(line)\n",
    "    if match:\n",
    "        header_level = len(match.group(1)) # nível do cabeçalho\n",
    "        header_text = match.group(2) # pega o texto do cabeçalho\n",
    "\n",
    "        # Aplica as substituições de formatação ao texto do cabeçalho\n",
    "        header_text = link_regex.sub(r'<a href=\"\\2\">\\1</a>', header_text)\n",
    "        header_text = bold_regex.sub(r'<b>\\1</b>', header_text)\n",
    "        header_text = italico_regex.sub(r'<i>\\1</i>', header_text)\n",
    "        header_text = image_regex.sub(r'<img src=\"\\2\" alt=\"\\1\">', header_text)\n",
    "        header_text = code_regex.sub(r'<code>\\1</code>', header_text)\n",
    "\n",
    "        # Compõe o cabeçalho HTML final\n",
    "        line = f'<h{header_level}>{header_text}</h{header_level}>'\n",
    "    else:\n",
    "        # Para linhas que não são cabeçalhos, aplica todas as substituições relevantes\n",
    "        line = link_regex.sub(r'<a href=\"\\2\">\\1</a>', line)\n",
    "        line = bold_regex.sub(r'<b>\\1</b>', line)\n",
    "        line = italico_regex.sub(r'<i>\\1</i>', line)\n",
    "        line = image_regex.sub(r'<img src=\"\\2\" alt=\"\\1\">', line)\n",
    "        line = code_regex.sub(r'<code>\\1</code>', line)\n",
    "        line = blockquote_regex.sub(r'<blockquote>\\1</blockquote>', line)\n",
    "        line = horizontal_rule_regex.sub(r'<hr>', line)\n",
    "        line = ordered_list_regex.sub(r'<ol><li>\\1</li></ol>', line)\n",
    "        line = unordered_list_regex.sub(r'<ul><li>\\1</li></ul>', line)\n",
    "\n",
    "    return line\n"
   ]
  },
  {
   "cell_type": "markdown",
   "metadata": {},
   "source": [
    "* Método para abrir o Ficheiro em MarkDown"
   ]
  },
  {
   "cell_type": "code",
   "execution_count": 214,
   "metadata": {},
   "outputs": [],
   "source": [
    "# Abre o ficheiro de entrada\n",
    "with open('teste.md', 'r', encoding='utf-8') as file:\n",
    "    # Lê todas as linhas do arquivo de entrada\n",
    "    lines = file.readlines()\n",
    "\n",
    "modified_lines = [markdown_to_html(line.strip()) for line in lines]"
   ]
  },
  {
   "cell_type": "markdown",
   "metadata": {},
   "source": [
    "* Escreve o resultado no ficheiro de Output"
   ]
  },
  {
   "cell_type": "code",
   "execution_count": 215,
   "metadata": {},
   "outputs": [],
   "source": [
    "# Escreve o resultado no ficheiro de saída\n",
    "with open('output.md', 'w', encoding='utf-8') as output:\n",
    "    for line in modified_lines:\n",
    "        output.write(line + '\\n')\n"
   ]
  }
 ],
 "metadata": {
  "kernelspec": {
   "display_name": "DAA",
   "language": "python",
   "name": "python3"
  },
  "language_info": {
   "codemirror_mode": {
    "name": "ipython",
    "version": 3
   },
   "file_extension": ".py",
   "mimetype": "text/x-python",
   "name": "python",
   "nbconvert_exporter": "python",
   "pygments_lexer": "ipython3",
   "version": "3.11.5"
  },
  "orig_nbformat": 4
 },
 "nbformat": 4,
 "nbformat_minor": 2
}
